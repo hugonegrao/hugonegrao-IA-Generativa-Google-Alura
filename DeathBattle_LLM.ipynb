{
 "cells": [
  {
   "cell_type": "markdown",
   "id": "baccca60-118a-4c46-8f8e-553e30fd62b1",
   "metadata": {},
   "source": [
    "# **Bem-vindo à DeathBattle**\n",
    "##### É hora de analisar 2 dos personagens mais icônicos e responder à pergunta final: \n",
    "### **Quem venceria a DeathBattle?**"
   ]
  },
  {
   "cell_type": "markdown",
   "id": "4a78f66a-9d98-4d0c-8250-7326ce0259c6",
   "metadata": {},
   "source": [
    "### Este projeto foi pensado para fins de entretenimento.\n",
    "#### Muitos fãs de HQs sempre se perguntaram \"quem venceria uma batalha entre o **Superman e o Hulk** ou entre **Batman e o Capitão América**?\"\n",
    "\n",
    "Listo aqui alguns motivos que me levaram a trabalhar neste projeto:\n",
    "- Para muitos fãs, a ideia de ver seus heróis favoritos se enfrentando em uma batalha épica é um sonho acalentado há anos. Um projeto como este tornaria esse sonho realidade, proporcionando uma experiência única e inesquecível.\n",
    "- A batalha entre super-heróis não seria apenas um espetáculo de ação, mas também uma oportunidade para explorar temas complexos como conflito de ideais, dilemas morais e as consequências do poder.\n",
    "- Um roteiro de Death Battle entre super-heróis seria uma obra original, capaz de gerar novos debates, teorias e interpretações entre os fãs.\n",
    "- O projeto poderia expandir o universo ficcional dos personagens, explorando seus poderes de forma inovadora e criativa, além de introduzir novos elementos à história.\n",
    "- A batalha épica entre super-heróis atrairia um público amplo e diverso, incluindo fãs de quadrinhos, filmes, séries e games.\n",
    "\n",
    "**Vamos começar!**"
   ]
  },
  {
   "cell_type": "code",
   "execution_count": 1,
   "id": "8be540ef-e696-4146-bd08-bacd31d9ea1c",
   "metadata": {},
   "outputs": [
    {
     "name": "stderr",
     "output_type": "stream",
     "text": [
      "C:\\Users\\Macroi\\AppData\\Roaming\\Python\\Python310\\site-packages\\tqdm\\auto.py:21: TqdmWarning: IProgress not found. Please update jupyter and ipywidgets. See https://ipywidgets.readthedocs.io/en/stable/user_install.html\n",
      "  from .autonotebook import tqdm as notebook_tqdm\n"
     ]
    }
   ],
   "source": [
    "# Importar as bibliotecas necessárias\n",
    "import google.generativeai as genai\n",
    "from configs.config import selecionar_equipe, selecionar_personagem, selecionar_tipo_criacao, selecionar_ambiente, selecionar_turno, selecionar_conhecimento\n",
    "import configs.config as config\n",
    "import warnings\n",
    "warnings.filterwarnings(\"ignore\")"
   ]
  },
  {
   "cell_type": "code",
   "execution_count": 2,
   "id": "f117c61d-8f6c-4cbd-87ae-506362bffa85",
   "metadata": {},
   "outputs": [],
   "source": [
    "# Inserir e configurar a api key\n",
    "api_key = \"your_api_key\"\n",
    "genai.configure(api_key = api_key)\n",
    "\n",
    "# Configurar o modelo\n",
    "generation_config = {\n",
    "  \"temperature\": 1,\n",
    "  \"top_p\": 0.95,\n",
    "  \"top_k\": 0,\n",
    "  \"max_output_tokens\": 8192,\n",
    "}\n",
    "\n",
    "safety_settings = [\n",
    "  {\n",
    "    \"category\": \"HARM_CATEGORY_HARASSMENT\",\n",
    "    \"threshold\": \"BLOCK_MEDIUM_AND_ABOVE\"\n",
    "  },\n",
    "  {\n",
    "    \"category\": \"HARM_CATEGORY_HATE_SPEECH\",\n",
    "    \"threshold\": \"BLOCK_MEDIUM_AND_ABOVE\"\n",
    "  },\n",
    "  {\n",
    "    \"category\": \"HARM_CATEGORY_SEXUALLY_EXPLICIT\",\n",
    "    \"threshold\": \"BLOCK_MEDIUM_AND_ABOVE\"\n",
    "  },\n",
    "  {\n",
    "    \"category\": \"HARM_CATEGORY_DANGEROUS_CONTENT\",\n",
    "    \"threshold\": \"BLOCK_MEDIUM_AND_ABOVE\"\n",
    "  },\n",
    "]"
   ]
  },
  {
   "cell_type": "markdown",
   "id": "1c23ce87-d961-4fa9-8707-fef3bacd52de",
   "metadata": {},
   "source": [
    "## It's tiiiiiiimeeeeeeeeeeeeee!\n",
    "![alt text](configs/ufc.jpg \"Title\")"
   ]
  },
  {
   "cell_type": "markdown",
   "id": "7a9d2f93-180e-4f75-bbb0-178300623385",
   "metadata": {},
   "source": [
    "## Existem 3 tipos de respostas presvistas para este modelo:\n",
    "- Relatório de luta: um relatório sobre cada um dos personagens escolhidos será feito. Neste relatório constará principais pontos fortes e fracos, habilidades, como combatê-lo, etc.\n",
    "- Probabilidade: serão rodados 5 cenários de combate entre os personagens escolhidos informando a probabilidade de vitória de cada um.\n",
    "- Roteiro: será criado um roteiro cinematográfico de batalha entre os 2 personagens. O usuário deverá escolher entre diversos ambientes de combate, horários e se os personagens tem conhecimento prévio sobre o outro."
   ]
  },
  {
   "cell_type": "code",
   "execution_count": 14,
   "id": "06326f89-d9ec-4256-b0fe-f0ad066cae70",
   "metadata": {},
   "outputs": [
    {
     "name": "stdout",
     "output_type": "stream",
     "text": [
      "----------------------------------------------------------------------------------------------------\n",
      "---------------------------------------------DEATHBATTLE--------------------------------------------\n",
      "Selecione uma das opções abaixo para a equipe do seu primeiro personagem:\n",
      "\n",
      "1 - Vingadores\n",
      "2 - X-Men\n",
      "3 - Liga da Justiça\n",
      "4 - Vilões Marvel\n",
      "5 - Vilões DC\n"
     ]
    },
    {
     "name": "stdin",
     "output_type": "stream",
     "text": [
      "Selecione o número da equipe da qual o seu primeiro personagem faz parte: \n",
      " 2\n"
     ]
    },
    {
     "name": "stdout",
     "output_type": "stream",
     "text": [
      "Selecione o seu primeiro personagem:\n",
      "1 - Professor X\n",
      "2 - Ciclope\n",
      "3 - Jean Grey\n",
      "4 - Homem de Gelo\n",
      "5 - Fera\n",
      "6 - Wolverine\n",
      "7 - Tempestade\n",
      "8 - Noturno\n",
      "9 - Vampira (X-Men)\n",
      "10 - Deadpool\n"
     ]
    },
    {
     "name": "stdin",
     "output_type": "stream",
     "text": [
      "Selecione o número do seu primeiro personagem: \n",
      " 1\n"
     ]
    },
    {
     "name": "stdout",
     "output_type": "stream",
     "text": [
      "Selecione uma das opções abaixo para a equipe do seu segundo personagem:\n",
      "\n",
      "1 - Vingadores\n",
      "2 - X-Men\n",
      "3 - Liga da Justiça\n",
      "4 - Vilões Marvel\n",
      "5 - Vilões DC\n"
     ]
    },
    {
     "name": "stdin",
     "output_type": "stream",
     "text": [
      "Selecione o número da equipe da qual o seu segundo personagem faz parte: \n",
      " 3\n"
     ]
    },
    {
     "name": "stdout",
     "output_type": "stream",
     "text": [
      "Selecione o seu segundo personagem:\n",
      "1 - Superman\n",
      "2 - Batman\n",
      "3 - Mulher Maravilha\n",
      "4 - Flash\n",
      "5 - Lanterna Verde\n",
      "6 - Aquaman\n",
      "7 - Caçador de Marte\n",
      "8 - Mulher-Gavião\n",
      "9 - Shazan\n",
      "10 - Arqueiro Verde\n"
     ]
    },
    {
     "name": "stdin",
     "output_type": "stream",
     "text": [
      "Selecione o número do seu segundo personagem: \n",
      " 10\n"
     ]
    },
    {
     "name": "stdout",
     "output_type": "stream",
     "text": [
      "Selecione o tipo de criação desejado:\n",
      "1 - Relatório De Luta\n",
      "2 - Probabilidade\n",
      "3 - Roteiro\n"
     ]
    },
    {
     "name": "stdin",
     "output_type": "stream",
     "text": [
      "Tipo de criação (numérico): \n",
      " 1\n"
     ]
    },
    {
     "name": "stdout",
     "output_type": "stream",
     "text": [
      "\n",
      "Loading...\n",
      "## Relatório de Luta: Professor X\n",
      "\n",
      "**Nome Real:** Charles Francis Xavier\n",
      "\n",
      "**Afiliações:** X-Men, Irmandade de Mutantes (anteriormente)\n",
      "\n",
      "**Habilidades e Poderes:**\n",
      "\n",
      "* **Telepatia:** Professor X é um dos telepatas mais poderosos do mundo. Ele pode ler mentes, projetar seus pensamentos, controlar mentes, criar ilusões telepáticas, induzir paralisia mental e apagar memórias. \n",
      "* **Rajadas Psíquicas:** Ele pode gerar rajadas psíquicas de grande poder destrutivo. \n",
      "* **Cerebro:** Professor X utiliza o Cerebro, um dispositivo que amplifica seus poderes telepáticos, permitindo que ele localize mutantes em qualquer lugar do mundo. \n",
      "\n",
      "**Forças:**\n",
      "\n",
      "* **Alcance Global:** Seus poderes telepáticos não conhecem limites físicos. Ele pode afetar mentes em qualquer lugar do planeta, mesmo à distância.\n",
      "* **Controle Mental:** A capacidade de dominar a mente de seus oponentes lhe confere grande vantagem estratégica, podendo neutralizar ameaças sem combate físico.\n",
      "* **Defesa Mental:**  Professor X possui defesas mentais poderosas, tornando-o imune a ataques telepáticos e controle mental. \n",
      "* **Estrategista Brilhante:** Professor X é um estrategista genial, capaz de prever e manipular situações a seu favor.\n",
      "\n",
      "**Fraquezas:**\n",
      "\n",
      "* **Condição Física:**  Professor X é paraplégico e precisa usar uma cadeira de rodas, tornando-o fisicamente vulnerável.\n",
      "* **Vulnerabilidade Psíquica:** Ataques psíquicos de grande magnitude podem sobrecarregá-lo e causar danos mentais.\n",
      "* **Bloqueadores Telepáticos:**  Materiais ou dispositivos que bloqueiam telepatia podem neutralizar seus poderes. \n",
      "* **Moralidade:** Sua forte bússola moral pode impedi-lo de utilizar todo o potencial de seus poderes, especialmente contra humanos.\n",
      "\n",
      "**Estilo de Luta:**\n",
      "\n",
      "Professor X raramente participa de combates físicos. Ele prefere utilizar seus poderes telepáticos para controlar a situação, incapacitar seus oponentes, manipular mentes e elaborar estratégias. \n",
      "\n",
      "**Estratégias para Combatê-lo:**\n",
      "\n",
      "* **Ataques Físicos Rápidos:** Explorar sua fragilidade física com ataques diretos e rápidos, antes que ele possa reagir com seus poderes mentais.\n",
      "* **Bloqueadores Telepáticos:** Utilizar tecnologias ou materiais que bloqueiam telepatia para neutralizar seus poderes.\n",
      "* **Ataques Psíquicos Massivos:** Sobrecarregar suas defesas mentais com ataques psíquicos poderosos, causando danos e desorientação.\n",
      "* **Explorar sua Moralidade:** Levá-lo a questionar suas ações, criando dilemas morais que o impeçam de usar todo o seu poder.\n",
      "\n",
      "**Observações Adicionais:**\n",
      "\n",
      "* Professor X possui uma vasta rede de aliados, os X-Men, que podem defendê-lo e lutar ao seu lado.\n",
      "* Sua mente é um labirinto complexo. Invasões mentais podem ser perigosas e imprevisíveis. \n",
      "* Apesar de seus poderes, Professor X acredita no diálogo e na coexistência pacífica entre humanos e mutantes.\n",
      "\n",
      "**Conclusão:**\n",
      "\n",
      "Professor X é um dos mutantes mais poderosos do mundo, capaz de controlar mentes e influenciar eventos em escala global. No entanto, sua fragilidade física e a necessidade de seguir sua moralidade abrem brechas para potenciais oponentes. Para derrotá-lo, é necessário combinar astúcia, velocidade e uma profunda compreensão de seus poderes e dilemas éticos. \n",
      " \n",
      " ---------------------------------------\n",
      "\n",
      "\n",
      "Loading...\n",
      "\n",
      "\n",
      "## Relatório de Luta: Arqueiro Verde\n",
      "\n",
      "**Nome Real:** Oliver Jonas Queen\n",
      "\n",
      "**Afiliações:** Liga da Justiça, Seta Verde (anteriormente)\n",
      "\n",
      "**Habilidades e Poderes:**\n",
      "\n",
      "* **Mestre Arqueiro:** Arqueiro Verde é considerado um dos melhores arqueiros do mundo, com precisão e velocidade sobre-humanas. Ele é capaz de disparar múltiplas flechas simultaneamente com extrema precisão.\n",
      "* **Combate Corpo-a-Corpo:**  É um exímio artista marcial e acrobata, com treinamento em diversas artes de combate, incluindo boxe, kung fu e esgrima.\n",
      "* **Táticas e Estratégia:** Possui mente analítica e grande capacidade de planejamento, sendo capaz de elaborar estratégias complexas e prever os movimentos do oponente.\n",
      "* **Equipamentos Especiais:**  Utiliza diversas flechas com diferentes funções, como explosivas, incendiárias, de gás lacrimogêneo, redes e até flechas com kryptonita para enfrentar o Superman.\n",
      "\n",
      "**Forças:**\n",
      "\n",
      "* **Precisão:** Sua pontaria impecável permite atingir pontos fracos e desabilitar oponentes com poucos disparos.\n",
      "* **Versatilidade:** Seu arsenal de flechas com diferentes funções oferece soluções para diversos tipos de ameaça.\n",
      "* **Agilidade:** Sua destreza acrobática e velocidade o tornam um alvo difícil de acertar em combate.\n",
      "* **Inteligência Tática:** Consegue analisar o campo de batalha e explorar as fraquezas do oponente.\n",
      "\n",
      "**Fraquezas:**\n",
      "\n",
      "* **Vulnerabilidade Humana:** Arqueiro Verde não possui superpoderes, sendo vulnerável a ataques físicos e armas de fogo.\n",
      "* **Dependência de Equipamento:** Sem seu arco e flechas, sua capacidade de combate é drasticamente reduzida.\n",
      "* **Distância:** Apesar de algumas flechas terem longo alcance, ele é mais efetivo em combates a média e curta distância.\n",
      "* **Traumas Passados:** Eventos traumáticos podem afetar seu julgamento e levar a decisões impulsivas.\n",
      "\n",
      "**Estilo de Luta:**\n",
      "\n",
      "Arqueiro Verde usa sua precisão e velocidade para desferir ataques rápidos e precisos, explorando pontos fracos e mantendo distância do oponente. Ele combina o uso do arco com técnicas de combate corpo-a-corpo, adaptando seu estilo de luta à situação.\n",
      "\n",
      "**Estratégias para Combatê-lo:**\n",
      "\n",
      "* **Ataques Surpresa:** Neutralizar sua capacidade de planejamento com ataques rápidos e inesperados.\n",
      "* **Armas de Fogo:** Utilizar armas de fogo de longo alcance para mantê-lo à distância e explorar sua vulnerabilidade humana.\n",
      "* **Combate Corpo-a-Corpo Agressivo:** Forçá-lo a um combate próximo, onde sua agilidade é menos efetiva.\n",
      "* **Destruir seu Equipamento:** Eliminar seu arco e flechas para reduzir drasticamente sua capacidade de combate.\n",
      "\n",
      "**Observações Adicionais:**\n",
      "\n",
      "* Arqueiro Verde é um membro importante da Liga da Justiça, podendo contar com a ajuda de outros heróis em combate.\n",
      "* Ele possui grande força de vontade e determinação, podendo resistir a dor e adversidades.\n",
      "* Apesar de sua natureza séria e focada, ele possui um forte senso de justiça e compaixão.\n",
      "\n",
      "**Conclusão:**\n",
      "\n",
      "Arqueiro Verde é um oponente formidável, com habilidades letais e grande inteligência tática. No entanto, sua vulnerabilidade humana e a dependência de seus equipamentos oferecem oportunidades para derrotá-lo. A chave para a vitória reside em explorar suas fraquezas, neutralizar suas vantagens e explorar a imprevisibilidade em combate. \n",
      "\n",
      "\n"
     ]
    },
    {
     "name": "stdin",
     "output_type": "stream",
     "text": [
      "Você deseja continuar(y/n)?\n",
      " y\n",
      "Você deseja alterar os personagens(y/n)? n\n"
     ]
    },
    {
     "name": "stdout",
     "output_type": "stream",
     "text": [
      "Selecione o tipo de criação desejado:\n",
      "1 - Relatório De Luta\n",
      "2 - Probabilidade\n",
      "3 - Roteiro\n"
     ]
    },
    {
     "name": "stdin",
     "output_type": "stream",
     "text": [
      "Tipo de criação (numérico): \n",
      " 2\n"
     ]
    },
    {
     "name": "stdout",
     "output_type": "stream",
     "text": [
      "\n",
      "Loading...\n",
      "\n",
      "\n",
      "## Cenários de Batalha Mortal: Professor X vs. Arqueiro Verde\n",
      "\n",
      "**Premissa:** Em cada cenário, ambos os personagens estão em busca de eliminar o oponente, sem restrições morais ou hesitações.\n",
      "\n",
      "---\n",
      "\n",
      "**Cenário 1: Emboscada na Floresta**\n",
      "\n",
      "* **Contexto:** Arqueiro Verde, ciente da localização de Professor X em uma cabana isolada na floresta, prepara uma emboscada. Ele se posiciona em uma árvore, camuflado na vegetação, pronto para disparar.\n",
      "* **Probabilidade de Vitória:** Arqueiro Verde (90%) - Professor X (10%) \n",
      "* **Análise:** A precisão de Arqueiro Verde e a vantagem do ataque surpresa lhe dão grande vantagem. Professor X, em sua cadeira de rodas e em um ambiente aberto, teria poucas chances de reagir a tempo.\n",
      "\n",
      "---\n",
      "\n",
      "**Cenário 2: Confronto Mental na Mansão X**\n",
      "\n",
      "* **Contexto:** Arqueiro Verde invade a Mansão X com o objetivo de eliminar Professor X.  Ele se depara com o Professor em seu escritório, protegido por defesas telepáticas.\n",
      "* **Probabilidade de Vitória:** Professor X (80%) - Arqueiro Verde (20%) \n",
      "* **Análise:** As defesas mentais do Professor X, amplificadas pelo Cerebro, seriam quase impenetráveis. Arqueiro Verde teria dificuldades em se aproximar e sofreria ilusões e ataques psíquicos. \n",
      "\n",
      "---\n",
      "\n",
      "**Cenário 3: Duelo em Campo Aberto**\n",
      "\n",
      "* **Contexto:** Os dois personagens se encontram em um campo aberto, com poucos obstáculos,  cientes da intenção letal do oponente.\n",
      "* **Probabilidade de Vitória:** Arqueiro Verde (60%) - Professor X (40%)\n",
      "* **Análise:** A velocidade e precisão de Arqueiro Verde lhe dão vantagem em um confronto à distância. Professor X, mesmo com seus poderes mentais, seria um alvo fácil em campo aberto.\n",
      "\n",
      "---\n",
      "\n",
      "**Cenário 4: Ataque Psíquico Global**\n",
      "\n",
      "* **Contexto:** Professor X, utilizando o Cerebro, lança um ataque psíquico devastador contra Arqueiro Verde, a quilômetros de distância.\n",
      "* **Probabilidade de Vitória:** Professor X (95%) - Arqueiro Verde (5%)\n",
      "* **Análise:** A menos que Arqueiro Verde possua algum tipo de proteção contra ataques psíquicos, ele seria completamente dominado pelo poder mental do Professor X. \n",
      "\n",
      "---\n",
      "\n",
      "**Cenário 5: Invasão Tecnológica**\n",
      "\n",
      "* **Contexto:** Arqueiro Verde utiliza tecnologia avançada, incluindo dispositivos bloqueadores de telepatia e armas sônicos, para invadir a Mansão X e confrontar Professor X.\n",
      "* **Probabilidade de Vitória:** Arqueiro Verde (70%) - Professor X (30%)\n",
      "* **Análise:** Se Arqueiro Verde conseguir neutralizar os poderes telepáticos de Professor X com tecnologia, ele teria grande vantagem no combate, explorando a vulnerabilidade física do Professor. \n",
      "\n",
      "---\n",
      "\n",
      "**Observações:** \n",
      "\n",
      "* É importante lembrar que estes cenários são hipotéticos e as probabilidades de vitória são aproximadas. \n",
      "* As chances de vitória podem variar dependendo de fatores como: estado mental dos personagens, condições do ambiente, nível de preparação e acesso a recursos. \n",
      "* A imprevisibilidade do combate e a capacidade de adaptação de ambos os personagens também influenciam no resultado final. \n",
      ", \n",
      "\n"
     ]
    },
    {
     "name": "stdin",
     "output_type": "stream",
     "text": [
      "Você deseja continuar(y/n)?\n",
      " y\n",
      "Você deseja alterar os personagens(y/n)? n\n"
     ]
    },
    {
     "name": "stdout",
     "output_type": "stream",
     "text": [
      "Selecione o tipo de criação desejado:\n",
      "1 - Relatório De Luta\n",
      "2 - Probabilidade\n",
      "3 - Roteiro\n"
     ]
    },
    {
     "name": "stdin",
     "output_type": "stream",
     "text": [
      "Tipo de criação (numérico): \n",
      " 3\n"
     ]
    },
    {
     "name": "stdout",
     "output_type": "stream",
     "text": [
      "Selecione o ambiente para a batalha:\n",
      "1 - Torre Dos Vingadores\n",
      "2 - Wakanda\n",
      "3 - Asgard\n",
      "4 - Mansão Wayne\n",
      "5 - Fortaleza Da Solidão\n",
      "6 - Helicarrier\n",
      "7 - Sanctum Sanctorum\n",
      "8 - Madripoor\n",
      "9 - Atlanta\n",
      "10 - Saara\n"
     ]
    },
    {
     "name": "stdin",
     "output_type": "stream",
     "text": [
      "Ambiente (numérico): \n",
      " 3\n"
     ]
    },
    {
     "name": "stdout",
     "output_type": "stream",
     "text": [
      "Selecione o horário para a batalha:\n",
      "1 - Dia\n",
      "2 - Noite\n"
     ]
    },
    {
     "name": "stdin",
     "output_type": "stream",
     "text": [
      "Horário (numérico): \n",
      " 2\n"
     ]
    },
    {
     "name": "stdout",
     "output_type": "stream",
     "text": [
      "Eles tem conhecimento prévio sobre o seu oponente? Caso sim, eles tiveram tempo para se preparar para o combate\n",
      "1 - Sim\n",
      "2 - Não\n"
     ]
    },
    {
     "name": "stdin",
     "output_type": "stream",
     "text": [
      "Conhecimento prévio (numérico): \n",
      " 2\n"
     ]
    },
    {
     "name": "stdout",
     "output_type": "stream",
     "text": [
      "\n",
      "Loading...\n",
      "\n",
      "\n",
      "## Asgard em Chamas: Professor X vs. Arqueiro Verde\n",
      "\n",
      "**Cena:** Ponte do Arco-Íris, Asgard. Noite.\n",
      "\n",
      "**Sinopse:** Uma névoa esverdeada e irreal paira no ar enquanto a Ponte do Arco-Íris pulsa com uma energia desconhecida. No centro dessa anomalia, duas figuras se confrontam: Professor X, em sua cadeira de rodas, e Arqueiro Verde, arco em punho.  Eles foram trazidos para Asgard por uma força misteriosa, com uma única missão: eliminar o oponente. \n",
      "\n",
      "**[INÍCIO DA CENA]**\n",
      "\n",
      "**SOM:** O vento uiva através dos pináculos dourados de Asgard, pontuado pelo crepitar da energia da Ponte do Arco-Íris.\n",
      "\n",
      "**CÂMERA:** Abre em um close-up do rosto de Professor X, sereno, mas com um brilho ameaçador nos olhos.\n",
      "\n",
      "**PROFESSOR X (V.O.)**: Onde estamos? Que tipo de lugar é este?\n",
      "\n",
      "**CÂMERA:** Transição para um plano geral, revelando a Ponte do Arco-Íris distorcida e pulsando com uma energia verde.  Arqueiro Verde, em posição de combate, observa Professor X com cautela.  Ao redor deles, a paisagem asgardiana se contorce em formas irreais.\n",
      "\n",
      "**ARQUEIRO VERDE:** Não importa onde estamos. Só um de nós sai daqui vivo.\n",
      "\n",
      "**Professor X** (Com um leve sorriso): Interessante. Sinto uma poderosa energia emanando de você. Mas você subestima o poder da mente.\n",
      "\n",
      "**CÂMERA:** Arqueiro Verde dispara uma flecha, que sibila no ar em direção ao Professor X.\n",
      "\n",
      "**SOM:** Um estalo seco e a flecha se desintegra a centímetros do Professor X, detida por uma força invisível.\n",
      "\n",
      "**Professor X:** (Franze a testa) Um guerreiro habilidoso, mas primitivo.\n",
      "\n",
      "**CÂMERA:** Close-up do rosto de Arqueiro Verde, surpreso.\n",
      "\n",
      "**ARQUEIRO VERDE:** O que...?\n",
      "\n",
      "**Professor X:** Você não pode me atingir com essas armas banais.  Sua mente, por outro lado...\n",
      "\n",
      "**CÂMERA:** Arqueiro Verde se sente desorientado. A paisagem onírica ao redor se intensifica, transformando-se em um pesadelo vívido. Ele vê Oliver Queen, sua identidade secreta, sendo torturado e morto repetidamente. \n",
      "\n",
      "**ARQUEIRO VERDE:** (Gritando) Pare com isso! O que está fazendo comigo?\n",
      "\n",
      "**Professor X:** Lutando com as únicas armas que importam neste lugar: a vontade e a mente.\n",
      "\n",
      "**CÂMERA:** Arqueiro Verde cambaleia, caindo de joelhos enquanto luta contra a invasão mental. Ele fecha os olhos, respirando fundo, buscando se concentrar.\n",
      "\n",
      "**ARQUEIRO VERDE:** (Sussurrando) Não... eu não vou perder para...\n",
      "\n",
      "**CÂMERA:** Arqueiro Verde pega uma flecha especial, a ponta emitindo um brilho roxo. Ele a coloca no arco, mirando no Professor X.\n",
      "\n",
      "**ARQUEIRO VERDE:** ...ilusões!\n",
      "\n",
      "**SOM:** Um disparo potente ecoa pela Ponte do Arco-Íris.  A flecha perfura a névoa verde, atingindo o Professor X no peito.\n",
      "\n",
      "**CÂMERA:** Close-up do rosto do Professor X, chocado e com dor. A flecha vibra com energia, bloqueando seus poderes mentais. \n",
      "\n",
      "**Professor X:** (Com dificuldade) O que é isso...?\n",
      "\n",
      "**ARQUEIRO VERDE:** Uma flecha feita com tecnologia roubada dos Deuses. Bloqueia habilidades psíquicas. Você não é tão poderoso quanto pensa.\n",
      "\n",
      "**CÂMERA:** Professor X tenta usar seus poderes, mas a dor se intensifica.  Ele olha para Arqueiro Verde com um misto de raiva e medo.\n",
      "\n",
      "**Professor X:** Você... você não pode...\n",
      "\n",
      "**CÂMERA:** Arqueiro Verde dispara uma saraivada de flechas. Professor X é atingido no peito e na cabeça, o impacto o lançando para trás. Ele cai da Ponte do Arco-Íris, desaparecendo na névoa verdejante abaixo.\n",
      "\n",
      "**ARQUEIRO VERDE:** (Respirando fundo, olhando para o abismo) Só um de nós...\n",
      "\n",
      "**CÂMERA:** Fecha em um close-up do rosto de Arqueiro Verde, vitorioso, mas marcado pela experiência. \n",
      "\n",
      "**[FIM DA CENA]**, \n",
      "\n"
     ]
    },
    {
     "name": "stdin",
     "output_type": "stream",
     "text": [
      "Você deseja continuar(y/n)?\n",
      " y\n",
      "Você deseja alterar os personagens(y/n)? y\n"
     ]
    },
    {
     "name": "stdout",
     "output_type": "stream",
     "text": [
      "----------------------------------------------------------------------------------------------------\n",
      "---------------------------------------------DEATHBATTLE--------------------------------------------\n",
      "Selecione uma das opções abaixo para a equipe do seu primeiro personagem:\n",
      "\n",
      "1 - Vingadores\n",
      "2 - X-Men\n",
      "3 - Liga da Justiça\n",
      "4 - Vilões Marvel\n",
      "5 - Vilões DC\n"
     ]
    },
    {
     "name": "stdin",
     "output_type": "stream",
     "text": [
      "Selecione o número da equipe da qual o seu primeiro personagem faz parte: \n",
      " 1\n"
     ]
    },
    {
     "name": "stdout",
     "output_type": "stream",
     "text": [
      "Selecione o seu primeiro personagem: \n",
      "1 - Thor\n",
      "2 - Homem de Ferro\n",
      "3 - Hulk\n",
      "4 - Capitão América\n",
      "5 - Homem Formiga\n",
      "6 - Vespa\n",
      "7 - Homem Aranha\n",
      "8 - Feiticeira Escarlate\n",
      "9 - Dr. Estranho\n",
      "10 - Visão\n"
     ]
    },
    {
     "name": "stdin",
     "output_type": "stream",
     "text": [
      "Selecione o número do seu primeiro personagem: \n",
      " 3\n"
     ]
    },
    {
     "name": "stdout",
     "output_type": "stream",
     "text": [
      "Selecione uma das opções abaixo para a equipe do seu segundo personagem:\n",
      "\n",
      "1 - Vingadores\n",
      "2 - X-Men\n",
      "3 - Liga da Justiça\n",
      "4 - Vilões Marvel\n",
      "5 - Vilões DC\n"
     ]
    },
    {
     "name": "stdin",
     "output_type": "stream",
     "text": [
      "Selecione o número da equipe da qual o seu segundo personagem faz parte: \n",
      " 2\n"
     ]
    },
    {
     "name": "stdout",
     "output_type": "stream",
     "text": [
      "Selecione o seu segundo personagem:\n",
      "1 - Professor X\n",
      "2 - Ciclope\n",
      "3 - Jean Grey\n",
      "4 - Homem de Gelo\n",
      "5 - Fera\n",
      "6 - Wolverine\n",
      "7 - Tempestade\n",
      "8 - Noturno\n",
      "9 - Vampira (X-Men)\n",
      "10 - Deadpool\n"
     ]
    },
    {
     "name": "stdin",
     "output_type": "stream",
     "text": [
      "Selecione o número do seu segundo personagem: \n",
      " 10\n"
     ]
    },
    {
     "name": "stdout",
     "output_type": "stream",
     "text": [
      "Selecione o tipo de criação desejado:\n",
      "1 - Relatório De Luta\n",
      "2 - Probabilidade\n",
      "3 - Roteiro\n"
     ]
    },
    {
     "name": "stdin",
     "output_type": "stream",
     "text": [
      "Tipo de criação (numérico): \n",
      " 2\n"
     ]
    },
    {
     "name": "stdout",
     "output_type": "stream",
     "text": [
      "\n",
      "Loading...\n",
      "\n",
      "\n",
      "## Cenários de Batalha Mortal: Hulk vs. Deadpool\n",
      "\n",
      "**Premissa:** Em cada cenário, ambos os personagens estão determinados a eliminar o oponente, sem restrições morais.\n",
      "\n",
      "---\n",
      "\n",
      "**Cenário 1: Confronto Direto em Nova York**\n",
      "\n",
      "* **Contexto:** Hulk e Deadpool se encontram no centro de Manhattan, em meio a caos e destruição. Deadpool provoca Hulk, o enfurecendo ainda mais.\n",
      "* **Probabilidade de Vitória:** Hulk (80%) - Deadpool (20%)\n",
      "* **Análise:** Neste cenário clássico, a força bruta e a fúria do Hulk prevaleceriam. Apesar da regeneração de Deadpool, a força do Hulk poderia desmembrá-lo repetidamente, tornando a regeneração ineficaz.\n",
      "\n",
      "---\n",
      "\n",
      "**Cenário 2: Armadilha Mortal na Mansão X**\n",
      "\n",
      "* **Contexto:** Deadpool, ciente da fraqueza de Hulk à radiação, atrai o Gigante Esmeralda para uma armadilha na Mansão X, utilizando a Sala de Perigo para simular um ambiente radioativo letal.\n",
      "* **Probabilidade de Vitória:** Deadpool (60%) - Hulk (40%)\n",
      "* **Análise:** A inteligência e a capacidade de planejamento de Deadpool lhe dão vantagem neste cenário. Se a armadilha for bem executada, a radiação pode enfraquecer Hulk o suficiente para Deadpool finalizar o combate.\n",
      "\n",
      "---\n",
      "\n",
      "**Cenário 3: Viagem Alucinante ao Reino Quântico**\n",
      "\n",
      "* **Contexto:** Por um acaso bizarro, Hulk e Deadpool são transportados para o Reino Quântico, um mundo subatômico imprevisível.\n",
      "* **Probabilidade de Vitória:** Deadpool (55%) - Hulk (45%)\n",
      "* **Análise:** No Reino Quântico, as leis da física são distorcidas, tornando a força bruta do Hulk menos eficaz. A imprevisibilidade e a capacidade de adaptação de Deadpool lhe dão uma ligeira vantagem nesse ambiente.\n",
      "\n",
      "---\n",
      "\n",
      "**Cenário 4: Emboscada Espacial na Lua**\n",
      "\n",
      "* **Contexto:** Deadpool atrai Hulk para a Lua, prometendo uma luta épica. No entanto, ele preparou uma emboscada com explosivos alienígenas ultra-potentes.\n",
      "* **Probabilidade de Vitória:** Deadpool (70%) - Hulk (30%)\n",
      "* **Análise:** A astúcia e o fator surpresa favorecem Deadpool neste cenário. Se os explosivos forem poderosos o suficiente para destruir a Lua, Hulk não teria chance de escapar.\n",
      "\n",
      "---\n",
      "\n",
      "**Cenário 5: Jogo Mental Interdimensional**\n",
      "\n",
      "* **Contexto:**  Um ser cósmico onipotente força Hulk e Deadpool a lutar em um plano mental, onde suas mentes são as armas.\n",
      "* **Probabilidade de Vitória:** Deadpool (90%) - Hulk (10%)\n",
      "* **Análise:** Em um duelo mental, Deadpool tem vantagem absoluta. Sua insanidade e capacidade de quebrar a quarta parede o tornam imprevisível e resistente a ataques psíquicos. A mente mais simples do Hulk seria facilmente manipulada e dominada.\n",
      "\n",
      "---\n",
      "\n",
      "**Observações:**\n",
      "\n",
      "* É crucial lembrar que estes cenários são especulativos, e as probabilidades são aproximações.\n",
      "* As chances de vitória podem oscilar com base em fatores como: estado mental dos personagens, ambiente, nível de preparação, e acesso a recursos.\n",
      "* A imprevisibilidade do combate e a adaptação de ambos influenciam no resultado final.\n",
      "\n",
      ", \n",
      "\n"
     ]
    },
    {
     "name": "stdin",
     "output_type": "stream",
     "text": [
      "Você deseja continuar(y/n)?\n",
      " n\n"
     ]
    },
    {
     "name": "stdout",
     "output_type": "stream",
     "text": [
      "----------------------------------------------------------------------------------------------------\n",
      "CPU times: total: 141 ms\n",
      "Wall time: 3min 5s\n"
     ]
    }
   ],
   "source": [
    "%%time\n",
    "# Inicialização do modelo e do chat\n",
    "model = genai.GenerativeModel(model_name=\"gemini-1.5-pro-latest\",\n",
    "                              generation_config=generation_config,\n",
    "                              safety_settings=safety_settings)\n",
    "chat = model.start_chat(history = [])\n",
    "\n",
    "#Variável para Loop\n",
    "continuar = True\n",
    "\n",
    "# Início da execução do modelo\n",
    "while continuar == True:\n",
    "    print('-' * 100)\n",
    "    print('-'*45 + 'DEATHBATTLE' + '-'*44)\n",
    "    equipe1 = selecionar_equipe(1)\n",
    "    personagem1 = selecionar_personagem(equipe1, 1)\n",
    "    equipe2 = config.selecionar_equipe(2)\n",
    "    personagem2 = selecionar_personagem(equipe2, 2)    \n",
    "    tipo_resposta = selecionar_tipo_criacao()\n",
    "    \n",
    "    mudar_personagens = False\n",
    "\n",
    "    while mudar_personagens == False:\n",
    "\n",
    "        if tipo_resposta == 'roteiro':\n",
    "            ambiente = selecionar_ambiente()\n",
    "            turno = selecionar_turno()\n",
    "            conhecimento_previo_input = selecionar_conhecimento()   \n",
    "            prompt = f'Crie um excitante roteiro cinematográfico para uma batalha mortal entre {personagem1} e {personagem2}. Esta batalha mortal acontecerá em {ambiente} durante {turno}. {conhecimento_previo_input}. Deve haver um claro vitorioso ao final.'\n",
    "            print('\\nLoading...')\n",
    "            response = chat.send_message(prompt)\n",
    "            print(f'\\n\\n{response.text}, \\n')\n",
    "            resposta_continue = input('Você deseja continuar(y/n)?\\n')        \n",
    "            if resposta_continue.lower() in ('não', 'nao', 'no', 'n'): \n",
    "                continuar = False\n",
    "                print('-' * 100)\n",
    "                break\n",
    "            else:\n",
    "                resposta_cenario = input('Você deseja alterar os personagens(y/n)?')\n",
    "                if resposta_cenario.lower() in ('yes', 'ye', 'y', 'sim', 'si', 's'):\n",
    "                    mudar_personagens = True\n",
    "                else:\n",
    "                    tipo_resposta = selecionar_tipo_criacao()\n",
    "                 \n",
    "        elif tipo_resposta == 'probabilidade':\n",
    "            prompt = f'Execute pelo menos 5 diferentes cenários de batalha mortal entre {personagem1} e {personagem2}. Informe a probabilidade de vitória de cada personagem.'\n",
    "            print('\\nLoading...')\n",
    "            response = chat.send_message(prompt)            \n",
    "            print(f'\\n\\n{response.text}, \\n')\n",
    "            resposta_continue = input('Você deseja continuar(y/n)?\\n') \n",
    "            if resposta_continue.lower() in ('não', 'nao', 'no', 'n'): \n",
    "                continuar = False\n",
    "                print('-' * 100)\n",
    "                break\n",
    "            else:\n",
    "                resposta_cenario = input('Você deseja alterar os personagens(y/n)?')\n",
    "                if resposta_cenario.lower() in ('yes', 'ye', 'y', 'sim', 'si', 's'):\n",
    "                    mudar_personagens = True\n",
    "                else:\n",
    "                    tipo_resposta = selecionar_tipo_criacao()\n",
    "                \n",
    "        elif tipo_resposta == 'relatório de luta':\n",
    "            \n",
    "            prompt = [f\"## Relatório de Luta: Tocha Humana\\n\\n**Nome Real:** Jonathan \\\"Johnny\\\" Storm\\n\\n**Afiliações:** Quarteto Fantástico\\n\\n**Habilidades e Poderes:**\\n\\n* **Pirocinese:** A Tocha Humana pode gerar chamas, manipulá-las e absorvê-las. Ele pode aumentar a temperatura do fogo à vontade, chegando a níveis capazes de derreter metal.\\n* **Voo:** Ao se envolver em chamas, a Tocha Humana pode voar a velocidades supersônicas. Ele demonstra grande manobrabilidade e controle durante o voo.\\n* **Invulnerabilidade:** As chamas que envolvem a Tocha Humana o tornam invulnerável ao calor, chamas e a maioria dos ataques físicos.\\n* **Nova:** A Tocha Humana pode liberar toda a sua energia numa poderosa explosão de fogo chamada \\\"Nova\\\". Essa técnica é extremamente poderosa, mas o deixa exausto e vulnerável por um tempo.\\n\\n**Forças:**\\n\\n* **Mobilidade Aérea:** Sua capacidade de voo o torna um alvo difícil de acertar e lhe confere grande vantagem estratégica.\\n* **Ataques de Longo Alcance:** Seus poderes de fogo permitem ataques à distância, mantendo inimigos à distância.\\n* **Alta Temperatura:** A intensidade do calor que ele gera pode derreter a maioria dos metais e materiais, tornando-o letal.\\n\\n**Fraquezas:**\\n\\n* **Vulnerabilidade à Água:** A água extingue suas chamas e o deixa vulnerável.\\n* **Dependência do Oxigênio:** Se privado de oxigênio, suas chamas se extinguem, tornando-o vulnerável.\\n* **Exaustão:** Usar seus poderes em excesso, especialmente a \\\"Nova\\\", o deixa exausto e vulnerável por um tempo.\\n* **Impulsividade:** A Tocha Humana é conhecido por ser impulsivo e arrogante, o que pode levar a erros estratégicos.\\n\\n**Estilo de Luta:**\\n\\nA Tocha Humana prefere ataques aéreos rápidos e poderosos, usando sua mobilidade para confundir o oponente. Ele utiliza bolas de fogo, jatos de chamas e investidas flamejantes para atacar de diferentes ângulos. \\n\\n**Estratégias para Combatê-lo:**\\n\\n* **Ataques de Longo Alcance:** Utilize ataques à distância, como mísseis, lasers ou poderes similares, enquanto ele estiver em voo.\\n* **Controle do Ambiente:** Capture-o em um ambiente com pouco oxigênio ou utilize grandes quantidades de água para extinguir suas chamas.\\n* **Explorar sua Impulsividade:** Use sua arrogância e impulsividade contra ele, levando-o a armadilhas ou fazendo-o gastar energia desnecessariamente.\\n* **Ataque Direto Após a \\\"Nova\\\":** Após usar a \\\"Nova\\\", a Tocha Humana estará vulnerável. Explore essa brecha para atacá-lo diretamente.\\n\\n**Observações Adicionais:**\\n\\n* A Tocha Humana possui grande sinergia com o resto do Quarteto Fantástico. Esteja preparado para enfrentar todo o time se ele estiver presente.\\n* Sua personalidade impulsiva pode ser explorada para obter informações ou levá-lo a subestimar o oponente.\\n* Apesar de sua invulnerabilidade ao calor, ataques físicos poderosos ainda podem causar dano.\\n\\n**Conclusão:**\\n\\nA Tocha Humana é um oponente poderoso e versátil. No entanto, explorando suas fraquezas, utilizando as estratégias corretas e mantendo a calma, é possível derrotá-lo. A chave para a vitória reside em neutralizar sua mobilidade, extinguir suas chamas e explorar sua impulsividade. '\\n-------------\\n## Relatório de Luta: {personagem1}\"][0]   \n",
    "            model = genai.GenerativeModel(model_name=\"gemini-1.5-pro-latest\",\n",
    "                                      generation_config=generation_config,\n",
    "                                      safety_settings=safety_settings)\n",
    "            print('\\nLoading...')\n",
    "            response = chat.send_message(prompt)\n",
    "            print(f'{response.text} \\n ---------------------------------------\\n')\n",
    "            \n",
    "            prompt = [f\"## Relatório de Luta: Tocha Humana\\n\\n**Nome Real:** Jonathan \\\"Johnny\\\" Storm\\n\\n**Afiliações:** Quarteto Fantástico\\n\\n**Habilidades e Poderes:**\\n\\n* **Pirocinese:** A Tocha Humana pode gerar chamas, manipulá-las e absorvê-las. Ele pode aumentar a temperatura do fogo à vontade, chegando a níveis capazes de derreter metal.\\n* **Voo:** Ao se envolver em chamas, a Tocha Humana pode voar a velocidades supersônicas. Ele demonstra grande manobrabilidade e controle durante o voo.\\n* **Invulnerabilidade:** As chamas que envolvem a Tocha Humana o tornam invulnerável ao calor, chamas e a maioria dos ataques físicos.\\n* **Nova:** A Tocha Humana pode liberar toda a sua energia numa poderosa explosão de fogo chamada \\\"Nova\\\". Essa técnica é extremamente poderosa, mas o deixa exausto e vulnerável por um tempo.\\n\\n**Forças:**\\n\\n* **Mobilidade Aérea:** Sua capacidade de voo o torna um alvo difícil de acertar e lhe confere grande vantagem estratégica.\\n* **Ataques de Longo Alcance:** Seus poderes de fogo permitem ataques à distância, mantendo inimigos à distância.\\n* **Alta Temperatura:** A intensidade do calor que ele gera pode derreter a maioria dos metais e materiais, tornando-o letal.\\n\\n**Fraquezas:**\\n\\n* **Vulnerabilidade à Água:** A água extingue suas chamas e o deixa vulnerável.\\n* **Dependência do Oxigênio:** Se privado de oxigênio, suas chamas se extinguem, tornando-o vulnerável.\\n* **Exaustão:** Usar seus poderes em excesso, especialmente a \\\"Nova\\\", o deixa exausto e vulnerável por um tempo.\\n* **Impulsividade:** A Tocha Humana é conhecido por ser impulsivo e arrogante, o que pode levar a erros estratégicos.\\n\\n**Estilo de Luta:**\\n\\nA Tocha Humana prefere ataques aéreos rápidos e poderosos, usando sua mobilidade para confundir o oponente. Ele utiliza bolas de fogo, jatos de chamas e investidas flamejantes para atacar de diferentes ângulos. \\n\\n**Estratégias para Combatê-lo:**\\n\\n* **Ataques de Longo Alcance:** Utilize ataques à distância, como mísseis, lasers ou poderes similares, enquanto ele estiver em voo.\\n* **Controle do Ambiente:** Capture-o em um ambiente com pouco oxigênio ou utilize grandes quantidades de água para extinguir suas chamas.\\n* **Explorar sua Impulsividade:** Use sua arrogância e impulsividade contra ele, levando-o a armadilhas ou fazendo-o gastar energia desnecessariamente.\\n* **Ataque Direto Após a \\\"Nova\\\":** Após usar a \\\"Nova\\\", a Tocha Humana estará vulnerável. Explore essa brecha para atacá-lo diretamente.\\n\\n**Observações Adicionais:**\\n\\n* A Tocha Humana possui grande sinergia com o resto do Quarteto Fantástico. Esteja preparado para enfrentar todo o time se ele estiver presente.\\n* Sua personalidade impulsiva pode ser explorada para obter informações ou levá-lo a subestimar o oponente.\\n* Apesar de sua invulnerabilidade ao calor, ataques físicos poderosos ainda podem causar dano.\\n\\n**Conclusão:**\\n\\nA Tocha Humana é um oponente poderoso e versátil. No entanto, explorando suas fraquezas, utilizando as estratégias corretas e mantendo a calma, é possível derrotá-lo. A chave para a vitória reside em neutralizar sua mobilidade, extinguir suas chamas e explorar sua impulsividade. '\\n-------------\\n## Relatório de Luta: {personagem2}\"][0]   \n",
    "            print('\\nLoading...')\n",
    "            response = chat.send_message(prompt)\n",
    "            print(f'\\n\\n{response.text}\\n')\n",
    "            resposta_continue = input('Você deseja continuar(y/n)?\\n') \n",
    "            if resposta_continue.lower() in ('não', 'nao', 'no', 'n'): \n",
    "                continuar = False\n",
    "                print('-' * 100)\n",
    "                break\n",
    "            else:\n",
    "                resposta_cenario = input('Você deseja alterar os personagens(y/n)?')\n",
    "                if resposta_cenario.lower() in ('yes', 'ye', 'y', 'sim', 'si', 's'):\n",
    "                    mudar_personagens = True\n",
    "                else:\n",
    "                    tipo_resposta = selecionar_tipo_criacao()                    "
   ]
  }
 ],
 "metadata": {
  "kernelspec": {
   "display_name": "Python 3 (ipykernel)",
   "language": "python",
   "name": "python3"
  },
  "language_info": {
   "codemirror_mode": {
    "name": "ipython",
    "version": 3
   },
   "file_extension": ".py",
   "mimetype": "text/x-python",
   "name": "python",
   "nbconvert_exporter": "python",
   "pygments_lexer": "ipython3",
   "version": "3.10.6"
  }
 },
 "nbformat": 4,
 "nbformat_minor": 5
}
